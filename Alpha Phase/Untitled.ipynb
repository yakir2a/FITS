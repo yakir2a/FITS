{
 "cells": [
  {
   "cell_type": "code",
   "execution_count": 96,
   "metadata": {},
   "outputs": [
    {
     "name": "stdout",
     "output_type": "stream",
     "text": [
      "213181\n",
      "280840\n"
     ]
    }
   ],
   "source": [
    "import pandas as pd\n",
    "df = pd.read_csv(\"C:/Users/user/Documents/GitHub/N.T.T.D-with-M.L/Traning set/KDD-99/kddcup.data_10_percent_corrected\", header=None)\n",
    "df.dropna(inplace=True,axis=1)\n",
    "#print(df[41])\n",
    "drop = df.drop(df[(df[41] == 'smurf.') | (df[41] == 'buffer_overflow.') | (df[41] == 'warezmaster.')].index).copy()\n",
    "print(len(drop))\n",
    "complete = df[(df[41] == 'smurf.') | (df[41] == 'buffer_overflow.') | (df[41] == 'warezmaster.')].copy()\n",
    "print(len(complete))"
   ]
  },
  {
   "cell_type": "code",
   "execution_count": null,
   "metadata": {},
   "outputs": [],
   "source": []
  }
 ],
 "metadata": {
  "kernelspec": {
   "display_name": "Python 3",
   "language": "python",
   "name": "python3"
  },
  "language_info": {
   "codemirror_mode": {
    "name": "ipython",
    "version": 3
   },
   "file_extension": ".py",
   "mimetype": "text/x-python",
   "name": "python",
   "nbconvert_exporter": "python",
   "pygments_lexer": "ipython3",
   "version": "3.7.0"
  }
 },
 "nbformat": 4,
 "nbformat_minor": 2
}
